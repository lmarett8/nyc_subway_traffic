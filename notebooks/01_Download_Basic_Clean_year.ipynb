{
 "cells": [
  {
   "cell_type": "code",
   "execution_count": 12,
   "metadata": {},
   "outputs": [],
   "source": [
    "import pandas as pd\n",
    "import numpy as np\n",
    "import requests\n",
    "from bs4 import BeautifulSoup\n",
    "from statistics import mode\n",
    "import requests\n",
    "import re\n",
    "import time\n",
    "from IPython.display import clear_output\n",
    "from tqdm.notebook import tqdm\n",
    "pd.set_option('display.max_rows', 200)"
   ]
  },
  {
   "cell_type": "markdown",
   "metadata": {},
   "source": [
    "Getting links from the website"
   ]
  },
  {
   "cell_type": "code",
   "execution_count": 13,
   "metadata": {},
   "outputs": [],
   "source": [
    "def get_list_of_files():\n",
    "    \"\"\"Parse the website, \n",
    "    gets the full list of file links\"\"\"\n",
    "    #Webpage with links to datasets\n",
    "    url = \"http://web.mta.info/developers/turnstile.html\"\n",
    "    res=requests.get(url)\n",
    "    if res.status_code == 200:\n",
    "        #Creating parse tree through BeautifulSoup\n",
    "        page=BeautifulSoup(res.content)\n",
    "        #\n",
    "        mydivs = page.find_all(\"div\", {\"class\": \"span-84 last\"})\n",
    "        file_list = []\n",
    "        #finding links in the website content\n",
    "        for div in mydivs:\n",
    "            files=div.findAll('a')\n",
    "        for file in files:\n",
    "            file_list.append(\"http://web.mta.info/developers/\"+file['href'])\n",
    "        return file_list"
   ]
  },
  {
   "cell_type": "markdown",
   "metadata": {},
   "source": [
    "Downloading data for the last 52 weeks (year)"
   ]
  },
  {
   "cell_type": "code",
   "execution_count": 14,
   "metadata": {},
   "outputs": [],
   "source": [
    "def get_data(weeks_num):\n",
    "    '''Gets array of links and downloads necessary amount due to passed value'''\n",
    "    links=get_list_of_files()\n",
    "    #initial subset, all other will be added to it   \n",
    "    df_first=pd.read_csv(links[0],sep=',')\n",
    "    #looping through array of links to get the data\n",
    "    for week in range(1,weeks_num):\n",
    "        #getting df\n",
    "        df_temp=pd.read_csv(links[week],sep=',')\n",
    "        #concats downloaded part to main df\n",
    "        df=pd.concat([df_temp,df_first],axis=0,ignore_index=True)\n",
    "        #resets index\n",
    "        df.reset_index(inplace=True,drop=True)\n",
    "        df_first=df\n",
    "        #prints out intermediate status\n",
    "        print(f\"Downloading {week} week of {weeks_num}\")\n",
    "        #loop makes a pause for one second to prevent website overload\n",
    "        time.sleep(1)\n",
    "        clear_output()\n",
    "    print(\"Done\")\n",
    "    return df_first \n"
   ]
  },
  {
   "cell_type": "code",
   "execution_count": 15,
   "metadata": {},
   "outputs": [
    {
     "name": "stdout",
     "output_type": "stream",
     "text": [
      "Done\n"
     ]
    }
   ],
   "source": [
    "df=get_data(52)"
   ]
  },
  {
   "cell_type": "markdown",
   "metadata": {},
   "source": [
    "Almost 11_000_000 rows"
   ]
  },
  {
   "cell_type": "code",
   "execution_count": 16,
   "metadata": {},
   "outputs": [
    {
     "data": {
      "text/plain": [
       "(10956784, 11)"
      ]
     },
     "execution_count": 16,
     "metadata": {},
     "output_type": "execute_result"
    }
   ],
   "source": [
    "df.shape"
   ]
  },
  {
   "cell_type": "markdown",
   "metadata": {},
   "source": [
    "Check for possible null values"
   ]
  },
  {
   "cell_type": "code",
   "execution_count": 17,
   "metadata": {},
   "outputs": [
    {
     "data": {
      "text/plain": [
       "C/A                                                                     0\n",
       "UNIT                                                                    0\n",
       "SCP                                                                     0\n",
       "STATION                                                                 0\n",
       "LINENAME                                                                0\n",
       "DIVISION                                                                0\n",
       "DATE                                                                    0\n",
       "TIME                                                                    0\n",
       "DESC                                                                    0\n",
       "ENTRIES                                                                 0\n",
       "EXITS                                                                   0\n",
       "dtype: int64"
      ]
     },
     "execution_count": 17,
     "metadata": {},
     "output_type": "execute_result"
    }
   ],
   "source": [
    "df.isnull().sum()"
   ]
  },
  {
   "cell_type": "markdown",
   "metadata": {},
   "source": [
    "No null values"
   ]
  },
  {
   "cell_type": "markdown",
   "metadata": {},
   "source": [
    "Check for colums dtypes"
   ]
  },
  {
   "cell_type": "code",
   "execution_count": 18,
   "metadata": {},
   "outputs": [
    {
     "name": "stdout",
     "output_type": "stream",
     "text": [
      "<class 'pandas.core.frame.DataFrame'>\n",
      "RangeIndex: 10956784 entries, 0 to 10956783\n",
      "Data columns (total 11 columns):\n",
      " #   Column                                                                Dtype \n",
      "---  ------                                                                ----- \n",
      " 0   C/A                                                                   object\n",
      " 1   UNIT                                                                  object\n",
      " 2   SCP                                                                   object\n",
      " 3   STATION                                                               object\n",
      " 4   LINENAME                                                              object\n",
      " 5   DIVISION                                                              object\n",
      " 6   DATE                                                                  object\n",
      " 7   TIME                                                                  object\n",
      " 8   DESC                                                                  object\n",
      " 9   ENTRIES                                                               int64 \n",
      " 10  EXITS                                                                 int64 \n",
      "dtypes: int64(2), object(9)\n",
      "memory usage: 919.5+ MB\n"
     ]
    }
   ],
   "source": [
    "df.info()"
   ]
  },
  {
   "cell_type": "markdown",
   "metadata": {},
   "source": [
    "All columns except DATE and TIME are in the correct format. Let's unite that columns and change to datetime."
   ]
  },
  {
   "cell_type": "code",
   "execution_count": 1,
   "metadata": {},
   "outputs": [
    {
     "ename": "NameError",
     "evalue": "name 'df' is not defined",
     "output_type": "error",
     "traceback": [
      "\u001b[0;31m---------------------------------------------------------------------------\u001b[0m",
      "\u001b[0;31mNameError\u001b[0m                                 Traceback (most recent call last)",
      "\u001b[1;32m/Users/glebradchenko/Desktop/VSCode_test/Project 4/nyc_subway_traffic/notebooks/01_Download_Basic_Clean_year.ipynb Cell 15\u001b[0m in \u001b[0;36m<cell line: 2>\u001b[0;34m()\u001b[0m\n\u001b[1;32m      <a href='vscode-notebook-cell:/Users/glebradchenko/Desktop/VSCode_test/Project%204/nyc_subway_traffic/notebooks/01_Download_Basic_Clean_year.ipynb#X20sZmlsZQ%3D%3D?line=0'>1</a>\u001b[0m \u001b[39m# snake_case column names\u001b[39;00m\n\u001b[0;32m----> <a href='vscode-notebook-cell:/Users/glebradchenko/Desktop/VSCode_test/Project%204/nyc_subway_traffic/notebooks/01_Download_Basic_Clean_year.ipynb#X20sZmlsZQ%3D%3D?line=1'>2</a>\u001b[0m df\u001b[39m.\u001b[39mcolumns\u001b[39m=\u001b[39mdf\u001b[39m.\u001b[39mcolumns\u001b[39m.\u001b[39mstr\u001b[39m.\u001b[39mlower()\u001b[39m.\u001b[39mstr\u001b[39m.\u001b[39mreplace(\u001b[39m\"\u001b[39m\u001b[39m \u001b[39m\u001b[39m\"\u001b[39m,\u001b[39m\"\u001b[39m\u001b[39m\"\u001b[39m)\n\u001b[1;32m      <a href='vscode-notebook-cell:/Users/glebradchenko/Desktop/VSCode_test/Project%204/nyc_subway_traffic/notebooks/01_Download_Basic_Clean_year.ipynb#X20sZmlsZQ%3D%3D?line=2'>3</a>\u001b[0m \u001b[39m# converting date to datetime format and dropping initial columns\u001b[39;00m\n\u001b[1;32m      <a href='vscode-notebook-cell:/Users/glebradchenko/Desktop/VSCode_test/Project%204/nyc_subway_traffic/notebooks/01_Download_Basic_Clean_year.ipynb#X20sZmlsZQ%3D%3D?line=3'>4</a>\u001b[0m df[\u001b[39m\"\u001b[39m\u001b[39mdatetime\u001b[39m\u001b[39m\"\u001b[39m]\u001b[39m=\u001b[39mdf[\u001b[39m\"\u001b[39m\u001b[39mdate\u001b[39m\u001b[39m\"\u001b[39m]\u001b[39m+\u001b[39m\u001b[39m\"\u001b[39m\u001b[39m \u001b[39m\u001b[39m\"\u001b[39m\u001b[39m+\u001b[39mdf[\u001b[39m\"\u001b[39m\u001b[39mtime\u001b[39m\u001b[39m\"\u001b[39m]\n",
      "\u001b[0;31mNameError\u001b[0m: name 'df' is not defined"
     ]
    }
   ],
   "source": [
    "\n",
    "# snake_case column names\n",
    "df.columns=df.columns.str.lower().str.replace(\" \",\"\")\n",
    "# converting date to datetime format and dropping initial columns\n",
    "df[\"datetime\"]=df[\"date\"]+\" \"+df[\"time\"]\n",
    "df.datetime=pd.to_datetime(df[\"datetime\"])\n",
    "df.drop(columns=[\"time\"],inplace=True)\n",
    "# This code creates multindex that will help group dataframe\n",
    "# and calculate absolute values for entries and exits instead of relevant.\n",
    "df['stat_id']=df[\"station\"]+\" \"+df[\"scp\"]+\" \"+df[\"c/a\"]\n",
    "df=df.set_index([\"stat_id\",\"datetime\"]).sort_index()\n",
    "\n",
    "\n"
   ]
  },
  {
   "cell_type": "markdown",
   "metadata": {},
   "source": [
    "Now features are fine"
   ]
  },
  {
   "cell_type": "markdown",
   "metadata": {},
   "source": [
    "----"
   ]
  },
  {
   "cell_type": "markdown",
   "metadata": {},
   "source": [
    "Some of the data from turnstiles is reversed in the dataset. That causes negative values. For that purpose I'll take abs of diff() values.This method gets grouped dataframe and returns absolute values for entries and exits instead of relevant."
   ]
  },
  {
   "cell_type": "code",
   "execution_count": 20,
   "metadata": {},
   "outputs": [],
   "source": [
    "def calc(temp):\n",
    "    #after recieving subset, creating another column with absolute values of passengers.    \n",
    "    temp['entries_abs']=temp['entries'].diff().abs()\n",
    "    temp['exits_abs']=temp['exits'].diff().abs()   \n",
    "    return temp"
   ]
  },
  {
   "cell_type": "code",
   "execution_count": 21,
   "metadata": {},
   "outputs": [],
   "source": [
    "#groupping by first index (stat_id) and applying calc() function.\n",
    "df=df.groupby(level=0).apply(lambda x: calc(x))"
   ]
  },
  {
   "cell_type": "code",
   "execution_count": 22,
   "metadata": {},
   "outputs": [
    {
     "data": {
      "text/html": [
       "<div>\n",
       "<style scoped>\n",
       "    .dataframe tbody tr th:only-of-type {\n",
       "        vertical-align: middle;\n",
       "    }\n",
       "\n",
       "    .dataframe tbody tr th {\n",
       "        vertical-align: top;\n",
       "    }\n",
       "\n",
       "    .dataframe thead th {\n",
       "        text-align: right;\n",
       "    }\n",
       "</style>\n",
       "<table border=\"1\" class=\"dataframe\">\n",
       "  <thead>\n",
       "    <tr style=\"text-align: right;\">\n",
       "      <th></th>\n",
       "      <th></th>\n",
       "      <th>c/a</th>\n",
       "      <th>unit</th>\n",
       "      <th>scp</th>\n",
       "      <th>station</th>\n",
       "      <th>linename</th>\n",
       "      <th>division</th>\n",
       "      <th>desc</th>\n",
       "      <th>entries</th>\n",
       "      <th>exits</th>\n",
       "      <th>entries_abs</th>\n",
       "      <th>exits_abs</th>\n",
       "    </tr>\n",
       "    <tr>\n",
       "      <th>stat_id</th>\n",
       "      <th>datetime</th>\n",
       "      <th></th>\n",
       "      <th></th>\n",
       "      <th></th>\n",
       "      <th></th>\n",
       "      <th></th>\n",
       "      <th></th>\n",
       "      <th></th>\n",
       "      <th></th>\n",
       "      <th></th>\n",
       "      <th></th>\n",
       "      <th></th>\n",
       "    </tr>\n",
       "  </thead>\n",
       "  <tbody>\n",
       "    <tr>\n",
       "      <th rowspan=\"5\" valign=\"top\">1 AV 00-00-00 H007</th>\n",
       "      <th>2021-10-16 00:00:00</th>\n",
       "      <td>H007</td>\n",
       "      <td>R248</td>\n",
       "      <td>00-00-00</td>\n",
       "      <td>1 AV</td>\n",
       "      <td>L</td>\n",
       "      <td>BMT</td>\n",
       "      <td>REGULAR</td>\n",
       "      <td>15644134</td>\n",
       "      <td>18145813</td>\n",
       "      <td>NaN</td>\n",
       "      <td>NaN</td>\n",
       "    </tr>\n",
       "    <tr>\n",
       "      <th>2021-10-16 04:00:00</th>\n",
       "      <td>H007</td>\n",
       "      <td>R248</td>\n",
       "      <td>00-00-00</td>\n",
       "      <td>1 AV</td>\n",
       "      <td>L</td>\n",
       "      <td>BMT</td>\n",
       "      <td>REGULAR</td>\n",
       "      <td>15644151</td>\n",
       "      <td>18146053</td>\n",
       "      <td>17.0</td>\n",
       "      <td>240.0</td>\n",
       "    </tr>\n",
       "    <tr>\n",
       "      <th>2021-10-16 08:00:00</th>\n",
       "      <td>H007</td>\n",
       "      <td>R248</td>\n",
       "      <td>00-00-00</td>\n",
       "      <td>1 AV</td>\n",
       "      <td>L</td>\n",
       "      <td>BMT</td>\n",
       "      <td>REGULAR</td>\n",
       "      <td>15644173</td>\n",
       "      <td>18146229</td>\n",
       "      <td>22.0</td>\n",
       "      <td>176.0</td>\n",
       "    </tr>\n",
       "    <tr>\n",
       "      <th>2021-10-16 12:00:00</th>\n",
       "      <td>H007</td>\n",
       "      <td>R248</td>\n",
       "      <td>00-00-00</td>\n",
       "      <td>1 AV</td>\n",
       "      <td>L</td>\n",
       "      <td>BMT</td>\n",
       "      <td>REGULAR</td>\n",
       "      <td>15644247</td>\n",
       "      <td>18146605</td>\n",
       "      <td>74.0</td>\n",
       "      <td>376.0</td>\n",
       "    </tr>\n",
       "    <tr>\n",
       "      <th>2021-10-16 16:00:00</th>\n",
       "      <td>H007</td>\n",
       "      <td>R248</td>\n",
       "      <td>00-00-00</td>\n",
       "      <td>1 AV</td>\n",
       "      <td>L</td>\n",
       "      <td>BMT</td>\n",
       "      <td>REGULAR</td>\n",
       "      <td>15644355</td>\n",
       "      <td>18147155</td>\n",
       "      <td>108.0</td>\n",
       "      <td>550.0</td>\n",
       "    </tr>\n",
       "    <tr>\n",
       "      <th>...</th>\n",
       "      <th>...</th>\n",
       "      <td>...</td>\n",
       "      <td>...</td>\n",
       "      <td>...</td>\n",
       "      <td>...</td>\n",
       "      <td>...</td>\n",
       "      <td>...</td>\n",
       "      <td>...</td>\n",
       "      <td>...</td>\n",
       "      <td>...</td>\n",
       "      <td>...</td>\n",
       "      <td>...</td>\n",
       "    </tr>\n",
       "    <tr>\n",
       "      <th rowspan=\"5\" valign=\"top\">ZEREGA AV 00-05-01 R419</th>\n",
       "      <th>2022-10-14 05:00:00</th>\n",
       "      <td>R419</td>\n",
       "      <td>R326</td>\n",
       "      <td>00-05-01</td>\n",
       "      <td>ZEREGA AV</td>\n",
       "      <td>6</td>\n",
       "      <td>IRT</td>\n",
       "      <td>REGULAR</td>\n",
       "      <td>39</td>\n",
       "      <td>289</td>\n",
       "      <td>0.0</td>\n",
       "      <td>0.0</td>\n",
       "    </tr>\n",
       "    <tr>\n",
       "      <th>2022-10-14 09:00:00</th>\n",
       "      <td>R419</td>\n",
       "      <td>R326</td>\n",
       "      <td>00-05-01</td>\n",
       "      <td>ZEREGA AV</td>\n",
       "      <td>6</td>\n",
       "      <td>IRT</td>\n",
       "      <td>REGULAR</td>\n",
       "      <td>39</td>\n",
       "      <td>289</td>\n",
       "      <td>0.0</td>\n",
       "      <td>0.0</td>\n",
       "    </tr>\n",
       "    <tr>\n",
       "      <th>2022-10-14 13:00:00</th>\n",
       "      <td>R419</td>\n",
       "      <td>R326</td>\n",
       "      <td>00-05-01</td>\n",
       "      <td>ZEREGA AV</td>\n",
       "      <td>6</td>\n",
       "      <td>IRT</td>\n",
       "      <td>REGULAR</td>\n",
       "      <td>39</td>\n",
       "      <td>289</td>\n",
       "      <td>0.0</td>\n",
       "      <td>0.0</td>\n",
       "    </tr>\n",
       "    <tr>\n",
       "      <th>2022-10-14 17:00:00</th>\n",
       "      <td>R419</td>\n",
       "      <td>R326</td>\n",
       "      <td>00-05-01</td>\n",
       "      <td>ZEREGA AV</td>\n",
       "      <td>6</td>\n",
       "      <td>IRT</td>\n",
       "      <td>REGULAR</td>\n",
       "      <td>39</td>\n",
       "      <td>289</td>\n",
       "      <td>0.0</td>\n",
       "      <td>0.0</td>\n",
       "    </tr>\n",
       "    <tr>\n",
       "      <th>2022-10-14 21:00:00</th>\n",
       "      <td>R419</td>\n",
       "      <td>R326</td>\n",
       "      <td>00-05-01</td>\n",
       "      <td>ZEREGA AV</td>\n",
       "      <td>6</td>\n",
       "      <td>IRT</td>\n",
       "      <td>REGULAR</td>\n",
       "      <td>39</td>\n",
       "      <td>289</td>\n",
       "      <td>0.0</td>\n",
       "      <td>0.0</td>\n",
       "    </tr>\n",
       "  </tbody>\n",
       "</table>\n",
       "<p>10956784 rows × 11 columns</p>\n",
       "</div>"
      ],
      "text/plain": [
       "                                              c/a  unit       scp    station  \\\n",
       "stat_id                 datetime                                               \n",
       "1 AV 00-00-00 H007      2021-10-16 00:00:00  H007  R248  00-00-00       1 AV   \n",
       "                        2021-10-16 04:00:00  H007  R248  00-00-00       1 AV   \n",
       "                        2021-10-16 08:00:00  H007  R248  00-00-00       1 AV   \n",
       "                        2021-10-16 12:00:00  H007  R248  00-00-00       1 AV   \n",
       "                        2021-10-16 16:00:00  H007  R248  00-00-00       1 AV   \n",
       "...                                           ...   ...       ...        ...   \n",
       "ZEREGA AV 00-05-01 R419 2022-10-14 05:00:00  R419  R326  00-05-01  ZEREGA AV   \n",
       "                        2022-10-14 09:00:00  R419  R326  00-05-01  ZEREGA AV   \n",
       "                        2022-10-14 13:00:00  R419  R326  00-05-01  ZEREGA AV   \n",
       "                        2022-10-14 17:00:00  R419  R326  00-05-01  ZEREGA AV   \n",
       "                        2022-10-14 21:00:00  R419  R326  00-05-01  ZEREGA AV   \n",
       "\n",
       "                                            linename division     desc  \\\n",
       "stat_id                 datetime                                         \n",
       "1 AV 00-00-00 H007      2021-10-16 00:00:00        L      BMT  REGULAR   \n",
       "                        2021-10-16 04:00:00        L      BMT  REGULAR   \n",
       "                        2021-10-16 08:00:00        L      BMT  REGULAR   \n",
       "                        2021-10-16 12:00:00        L      BMT  REGULAR   \n",
       "                        2021-10-16 16:00:00        L      BMT  REGULAR   \n",
       "...                                              ...      ...      ...   \n",
       "ZEREGA AV 00-05-01 R419 2022-10-14 05:00:00        6      IRT  REGULAR   \n",
       "                        2022-10-14 09:00:00        6      IRT  REGULAR   \n",
       "                        2022-10-14 13:00:00        6      IRT  REGULAR   \n",
       "                        2022-10-14 17:00:00        6      IRT  REGULAR   \n",
       "                        2022-10-14 21:00:00        6      IRT  REGULAR   \n",
       "\n",
       "                                              entries     exits  entries_abs  \\\n",
       "stat_id                 datetime                                               \n",
       "1 AV 00-00-00 H007      2021-10-16 00:00:00  15644134  18145813          NaN   \n",
       "                        2021-10-16 04:00:00  15644151  18146053         17.0   \n",
       "                        2021-10-16 08:00:00  15644173  18146229         22.0   \n",
       "                        2021-10-16 12:00:00  15644247  18146605         74.0   \n",
       "                        2021-10-16 16:00:00  15644355  18147155        108.0   \n",
       "...                                               ...       ...          ...   \n",
       "ZEREGA AV 00-05-01 R419 2022-10-14 05:00:00        39       289          0.0   \n",
       "                        2022-10-14 09:00:00        39       289          0.0   \n",
       "                        2022-10-14 13:00:00        39       289          0.0   \n",
       "                        2022-10-14 17:00:00        39       289          0.0   \n",
       "                        2022-10-14 21:00:00        39       289          0.0   \n",
       "\n",
       "                                             exits_abs  \n",
       "stat_id                 datetime                        \n",
       "1 AV 00-00-00 H007      2021-10-16 00:00:00        NaN  \n",
       "                        2021-10-16 04:00:00      240.0  \n",
       "                        2021-10-16 08:00:00      176.0  \n",
       "                        2021-10-16 12:00:00      376.0  \n",
       "                        2021-10-16 16:00:00      550.0  \n",
       "...                                                ...  \n",
       "ZEREGA AV 00-05-01 R419 2022-10-14 05:00:00        0.0  \n",
       "                        2022-10-14 09:00:00        0.0  \n",
       "                        2022-10-14 13:00:00        0.0  \n",
       "                        2022-10-14 17:00:00        0.0  \n",
       "                        2022-10-14 21:00:00        0.0  \n",
       "\n",
       "[10956784 rows x 11 columns]"
      ]
     },
     "execution_count": 22,
     "metadata": {},
     "output_type": "execute_result"
    }
   ],
   "source": [
    "df"
   ]
  },
  {
   "cell_type": "markdown",
   "metadata": {},
   "source": [
    "Check for negative values"
   ]
  },
  {
   "cell_type": "code",
   "execution_count": 23,
   "metadata": {},
   "outputs": [
    {
     "data": {
      "text/html": [
       "<div>\n",
       "<style scoped>\n",
       "    .dataframe tbody tr th:only-of-type {\n",
       "        vertical-align: middle;\n",
       "    }\n",
       "\n",
       "    .dataframe tbody tr th {\n",
       "        vertical-align: top;\n",
       "    }\n",
       "\n",
       "    .dataframe thead th {\n",
       "        text-align: right;\n",
       "    }\n",
       "</style>\n",
       "<table border=\"1\" class=\"dataframe\">\n",
       "  <thead>\n",
       "    <tr style=\"text-align: right;\">\n",
       "      <th></th>\n",
       "      <th></th>\n",
       "      <th>c/a</th>\n",
       "      <th>unit</th>\n",
       "      <th>scp</th>\n",
       "      <th>station</th>\n",
       "      <th>linename</th>\n",
       "      <th>division</th>\n",
       "      <th>desc</th>\n",
       "      <th>entries</th>\n",
       "      <th>exits</th>\n",
       "      <th>entries_abs</th>\n",
       "      <th>exits_abs</th>\n",
       "    </tr>\n",
       "    <tr>\n",
       "      <th>stat_id</th>\n",
       "      <th>datetime</th>\n",
       "      <th></th>\n",
       "      <th></th>\n",
       "      <th></th>\n",
       "      <th></th>\n",
       "      <th></th>\n",
       "      <th></th>\n",
       "      <th></th>\n",
       "      <th></th>\n",
       "      <th></th>\n",
       "      <th></th>\n",
       "      <th></th>\n",
       "    </tr>\n",
       "  </thead>\n",
       "  <tbody>\n",
       "  </tbody>\n",
       "</table>\n",
       "</div>"
      ],
      "text/plain": [
       "Empty DataFrame\n",
       "Columns: [c/a, unit, scp, station, linename, division, desc, entries, exits, entries_abs, exits_abs]\n",
       "Index: []"
      ]
     },
     "execution_count": 23,
     "metadata": {},
     "output_type": "execute_result"
    }
   ],
   "source": [
    "df[df[\"entries_abs\"]<0]"
   ]
  },
  {
   "cell_type": "code",
   "execution_count": 24,
   "metadata": {},
   "outputs": [
    {
     "data": {
      "text/html": [
       "<div>\n",
       "<style scoped>\n",
       "    .dataframe tbody tr th:only-of-type {\n",
       "        vertical-align: middle;\n",
       "    }\n",
       "\n",
       "    .dataframe tbody tr th {\n",
       "        vertical-align: top;\n",
       "    }\n",
       "\n",
       "    .dataframe thead th {\n",
       "        text-align: right;\n",
       "    }\n",
       "</style>\n",
       "<table border=\"1\" class=\"dataframe\">\n",
       "  <thead>\n",
       "    <tr style=\"text-align: right;\">\n",
       "      <th></th>\n",
       "      <th></th>\n",
       "      <th>c/a</th>\n",
       "      <th>unit</th>\n",
       "      <th>scp</th>\n",
       "      <th>station</th>\n",
       "      <th>linename</th>\n",
       "      <th>division</th>\n",
       "      <th>desc</th>\n",
       "      <th>entries</th>\n",
       "      <th>exits</th>\n",
       "      <th>entries_abs</th>\n",
       "      <th>exits_abs</th>\n",
       "    </tr>\n",
       "    <tr>\n",
       "      <th>stat_id</th>\n",
       "      <th>datetime</th>\n",
       "      <th></th>\n",
       "      <th></th>\n",
       "      <th></th>\n",
       "      <th></th>\n",
       "      <th></th>\n",
       "      <th></th>\n",
       "      <th></th>\n",
       "      <th></th>\n",
       "      <th></th>\n",
       "      <th></th>\n",
       "      <th></th>\n",
       "    </tr>\n",
       "  </thead>\n",
       "  <tbody>\n",
       "  </tbody>\n",
       "</table>\n",
       "</div>"
      ],
      "text/plain": [
       "Empty DataFrame\n",
       "Columns: [c/a, unit, scp, station, linename, division, desc, entries, exits, entries_abs, exits_abs]\n",
       "Index: []"
      ]
     },
     "execution_count": 24,
     "metadata": {},
     "output_type": "execute_result"
    }
   ],
   "source": [
    "df[df[\"exits_abs\"]<0]"
   ]
  },
  {
   "cell_type": "markdown",
   "metadata": {},
   "source": [
    "Checking and dropping all NaN values"
   ]
  },
  {
   "cell_type": "code",
   "execution_count": 21,
   "metadata": {},
   "outputs": [
    {
     "data": {
      "text/plain": [
       "c/a               0\n",
       "unit              0\n",
       "scp               0\n",
       "station           0\n",
       "linename          0\n",
       "division          0\n",
       "desc              0\n",
       "entries           0\n",
       "exits             0\n",
       "entries_abs    5085\n",
       "exits_abs      5085\n",
       "dtype: int64"
      ]
     },
     "execution_count": 21,
     "metadata": {},
     "output_type": "execute_result"
    }
   ],
   "source": [
    "df.isnull().sum()"
   ]
  },
  {
   "cell_type": "code",
   "execution_count": 25,
   "metadata": {},
   "outputs": [
    {
     "data": {
      "text/plain": [
       "c/a            0\n",
       "unit           0\n",
       "scp            0\n",
       "station        0\n",
       "linename       0\n",
       "division       0\n",
       "desc           0\n",
       "entries        0\n",
       "exits          0\n",
       "entries_abs    0\n",
       "exits_abs      0\n",
       "dtype: int64"
      ]
     },
     "execution_count": 25,
     "metadata": {},
     "output_type": "execute_result"
    }
   ],
   "source": [
    "df.dropna(inplace=True)\n",
    "df.isnull().sum()"
   ]
  },
  {
   "cell_type": "markdown",
   "metadata": {},
   "source": [
    "----"
   ]
  },
  {
   "cell_type": "markdown",
   "metadata": {},
   "source": [
    "As you can see on the \"entries\" column, for the turnstile 01-05-00 at WORLD TRADE CTR Station, calculated number of entries was 2146956625, and in eight hours it changes to 8098. That seriously affects absolute value calculation."
   ]
  },
  {
   "cell_type": "code",
   "execution_count": 26,
   "metadata": {},
   "outputs": [
    {
     "data": {
      "text/html": [
       "<div>\n",
       "<style scoped>\n",
       "    .dataframe tbody tr th:only-of-type {\n",
       "        vertical-align: middle;\n",
       "    }\n",
       "\n",
       "    .dataframe tbody tr th {\n",
       "        vertical-align: top;\n",
       "    }\n",
       "\n",
       "    .dataframe thead th {\n",
       "        text-align: right;\n",
       "    }\n",
       "</style>\n",
       "<table border=\"1\" class=\"dataframe\">\n",
       "  <thead>\n",
       "    <tr style=\"text-align: right;\">\n",
       "      <th></th>\n",
       "      <th>c/a</th>\n",
       "      <th>unit</th>\n",
       "      <th>scp</th>\n",
       "      <th>station</th>\n",
       "      <th>linename</th>\n",
       "      <th>division</th>\n",
       "      <th>desc</th>\n",
       "      <th>entries</th>\n",
       "      <th>exits</th>\n",
       "      <th>entries_abs</th>\n",
       "      <th>exits_abs</th>\n",
       "    </tr>\n",
       "    <tr>\n",
       "      <th>datetime</th>\n",
       "      <th></th>\n",
       "      <th></th>\n",
       "      <th></th>\n",
       "      <th></th>\n",
       "      <th></th>\n",
       "      <th></th>\n",
       "      <th></th>\n",
       "      <th></th>\n",
       "      <th></th>\n",
       "      <th></th>\n",
       "      <th></th>\n",
       "    </tr>\n",
       "  </thead>\n",
       "  <tbody>\n",
       "    <tr>\n",
       "      <th>2022-08-21 08:00:00</th>\n",
       "      <td>N094</td>\n",
       "      <td>R029</td>\n",
       "      <td>01-03-04</td>\n",
       "      <td>WORLD TRADE CTR</td>\n",
       "      <td>ACE23</td>\n",
       "      <td>IND</td>\n",
       "      <td>REGULAR</td>\n",
       "      <td>527005</td>\n",
       "      <td>183608</td>\n",
       "      <td>3.000000e+00</td>\n",
       "      <td>4.0</td>\n",
       "    </tr>\n",
       "    <tr>\n",
       "      <th>2022-08-21 12:00:00</th>\n",
       "      <td>N094</td>\n",
       "      <td>R029</td>\n",
       "      <td>01-03-04</td>\n",
       "      <td>WORLD TRADE CTR</td>\n",
       "      <td>ACE23</td>\n",
       "      <td>IND</td>\n",
       "      <td>REGULAR</td>\n",
       "      <td>2146956625</td>\n",
       "      <td>183611</td>\n",
       "      <td>2.146430e+09</td>\n",
       "      <td>3.0</td>\n",
       "    </tr>\n",
       "    <tr>\n",
       "      <th>2022-08-21 16:00:00</th>\n",
       "      <td>N094</td>\n",
       "      <td>R029</td>\n",
       "      <td>01-03-04</td>\n",
       "      <td>WORLD TRADE CTR</td>\n",
       "      <td>ACE23</td>\n",
       "      <td>IND</td>\n",
       "      <td>REGULAR</td>\n",
       "      <td>527071</td>\n",
       "      <td>183618</td>\n",
       "      <td>2.146430e+09</td>\n",
       "      <td>7.0</td>\n",
       "    </tr>\n",
       "    <tr>\n",
       "      <th>2022-08-21 20:00:00</th>\n",
       "      <td>N094</td>\n",
       "      <td>R029</td>\n",
       "      <td>01-03-04</td>\n",
       "      <td>WORLD TRADE CTR</td>\n",
       "      <td>ACE23</td>\n",
       "      <td>IND</td>\n",
       "      <td>REGULAR</td>\n",
       "      <td>527116</td>\n",
       "      <td>183624</td>\n",
       "      <td>4.500000e+01</td>\n",
       "      <td>6.0</td>\n",
       "    </tr>\n",
       "    <tr>\n",
       "      <th>2022-08-22 00:00:00</th>\n",
       "      <td>N094</td>\n",
       "      <td>R029</td>\n",
       "      <td>01-03-04</td>\n",
       "      <td>WORLD TRADE CTR</td>\n",
       "      <td>ACE23</td>\n",
       "      <td>IND</td>\n",
       "      <td>REGULAR</td>\n",
       "      <td>527129</td>\n",
       "      <td>183626</td>\n",
       "      <td>1.300000e+01</td>\n",
       "      <td>2.0</td>\n",
       "    </tr>\n",
       "  </tbody>\n",
       "</table>\n",
       "</div>"
      ],
      "text/plain": [
       "                      c/a  unit       scp          station linename division  \\\n",
       "datetime                                                                       \n",
       "2022-08-21 08:00:00  N094  R029  01-03-04  WORLD TRADE CTR    ACE23      IND   \n",
       "2022-08-21 12:00:00  N094  R029  01-03-04  WORLD TRADE CTR    ACE23      IND   \n",
       "2022-08-21 16:00:00  N094  R029  01-03-04  WORLD TRADE CTR    ACE23      IND   \n",
       "2022-08-21 20:00:00  N094  R029  01-03-04  WORLD TRADE CTR    ACE23      IND   \n",
       "2022-08-22 00:00:00  N094  R029  01-03-04  WORLD TRADE CTR    ACE23      IND   \n",
       "\n",
       "                        desc     entries   exits   entries_abs  exits_abs  \n",
       "datetime                                                                   \n",
       "2022-08-21 08:00:00  REGULAR      527005  183608  3.000000e+00        4.0  \n",
       "2022-08-21 12:00:00  REGULAR  2146956625  183611  2.146430e+09        3.0  \n",
       "2022-08-21 16:00:00  REGULAR      527071  183618  2.146430e+09        7.0  \n",
       "2022-08-21 20:00:00  REGULAR      527116  183624  4.500000e+01        6.0  \n",
       "2022-08-22 00:00:00  REGULAR      527129  183626  1.300000e+01        2.0  "
      ]
     },
     "execution_count": 26,
     "metadata": {},
     "output_type": "execute_result"
    }
   ],
   "source": [
    "#example of abnormal value\n",
    "df.loc[\"WORLD TRADE CTR 01-03-04 N094\"].iloc[1855:1860]"
   ]
  },
  {
   "cell_type": "markdown",
   "metadata": {},
   "source": [
    "Another example of incorrect data - some of the turnstile detectors were reseted. Since entries and exits columns show the change of amount of passengers, the main problem is between two rows with different calculation system. For example:"
   ]
  },
  {
   "cell_type": "code",
   "execution_count": 38,
   "metadata": {},
   "outputs": [
    {
     "data": {
      "text/html": [
       "<div>\n",
       "<style scoped>\n",
       "    .dataframe tbody tr th:only-of-type {\n",
       "        vertical-align: middle;\n",
       "    }\n",
       "\n",
       "    .dataframe tbody tr th {\n",
       "        vertical-align: top;\n",
       "    }\n",
       "\n",
       "    .dataframe thead th {\n",
       "        text-align: right;\n",
       "    }\n",
       "</style>\n",
       "<table border=\"1\" class=\"dataframe\">\n",
       "  <thead>\n",
       "    <tr style=\"text-align: right;\">\n",
       "      <th></th>\n",
       "      <th>c/a</th>\n",
       "      <th>unit</th>\n",
       "      <th>scp</th>\n",
       "      <th>station</th>\n",
       "      <th>linename</th>\n",
       "      <th>division</th>\n",
       "      <th>desc</th>\n",
       "      <th>entries</th>\n",
       "      <th>exits</th>\n",
       "      <th>entries_abs</th>\n",
       "      <th>exits_abs</th>\n",
       "    </tr>\n",
       "    <tr>\n",
       "      <th>datetime</th>\n",
       "      <th></th>\n",
       "      <th></th>\n",
       "      <th></th>\n",
       "      <th></th>\n",
       "      <th></th>\n",
       "      <th></th>\n",
       "      <th></th>\n",
       "      <th></th>\n",
       "      <th></th>\n",
       "      <th></th>\n",
       "      <th></th>\n",
       "    </tr>\n",
       "  </thead>\n",
       "  <tbody>\n",
       "    <tr>\n",
       "      <th>2022-10-05 05:00:00</th>\n",
       "      <td>R258</td>\n",
       "      <td>R132</td>\n",
       "      <td>00-06-00</td>\n",
       "      <td>125 ST</td>\n",
       "      <td>456</td>\n",
       "      <td>IRT</td>\n",
       "      <td>REGULAR</td>\n",
       "      <td>275773227</td>\n",
       "      <td>324332636</td>\n",
       "      <td>227.0</td>\n",
       "      <td>442.0</td>\n",
       "    </tr>\n",
       "    <tr>\n",
       "      <th>2022-10-05 09:00:00</th>\n",
       "      <td>R258</td>\n",
       "      <td>R132</td>\n",
       "      <td>00-06-00</td>\n",
       "      <td>125 ST</td>\n",
       "      <td>456</td>\n",
       "      <td>IRT</td>\n",
       "      <td>REGULAR</td>\n",
       "      <td>275773365</td>\n",
       "      <td>324332903</td>\n",
       "      <td>138.0</td>\n",
       "      <td>267.0</td>\n",
       "    </tr>\n",
       "    <tr>\n",
       "      <th>2022-10-06 13:00:00</th>\n",
       "      <td>R258</td>\n",
       "      <td>R132</td>\n",
       "      <td>00-06-00</td>\n",
       "      <td>125 ST</td>\n",
       "      <td>456</td>\n",
       "      <td>IRT</td>\n",
       "      <td>REGULAR</td>\n",
       "      <td>275773530</td>\n",
       "      <td>324333223</td>\n",
       "      <td>165.0</td>\n",
       "      <td>320.0</td>\n",
       "    </tr>\n",
       "    <tr>\n",
       "      <th>2022-10-06 21:00:00</th>\n",
       "      <td>R258</td>\n",
       "      <td>R132</td>\n",
       "      <td>00-06-00</td>\n",
       "      <td>125 ST</td>\n",
       "      <td>456</td>\n",
       "      <td>IRT</td>\n",
       "      <td>REGULAR</td>\n",
       "      <td>1325</td>\n",
       "      <td>254</td>\n",
       "      <td>275772205.0</td>\n",
       "      <td>324332969.0</td>\n",
       "    </tr>\n",
       "    <tr>\n",
       "      <th>2022-10-07 01:00:00</th>\n",
       "      <td>R258</td>\n",
       "      <td>R132</td>\n",
       "      <td>00-06-00</td>\n",
       "      <td>125 ST</td>\n",
       "      <td>456</td>\n",
       "      <td>IRT</td>\n",
       "      <td>REGULAR</td>\n",
       "      <td>1362</td>\n",
       "      <td>327</td>\n",
       "      <td>37.0</td>\n",
       "      <td>73.0</td>\n",
       "    </tr>\n",
       "  </tbody>\n",
       "</table>\n",
       "</div>"
      ],
      "text/plain": [
       "                      c/a  unit       scp station linename division     desc  \\\n",
       "datetime                                                                       \n",
       "2022-10-05 05:00:00  R258  R132  00-06-00  125 ST      456      IRT  REGULAR   \n",
       "2022-10-05 09:00:00  R258  R132  00-06-00  125 ST      456      IRT  REGULAR   \n",
       "2022-10-06 13:00:00  R258  R132  00-06-00  125 ST      456      IRT  REGULAR   \n",
       "2022-10-06 21:00:00  R258  R132  00-06-00  125 ST      456      IRT  REGULAR   \n",
       "2022-10-07 01:00:00  R258  R132  00-06-00  125 ST      456      IRT  REGULAR   \n",
       "\n",
       "                       entries      exits  entries_abs    exits_abs  \n",
       "datetime                                                             \n",
       "2022-10-05 05:00:00  275773227  324332636        227.0        442.0  \n",
       "2022-10-05 09:00:00  275773365  324332903        138.0        267.0  \n",
       "2022-10-06 13:00:00  275773530  324333223        165.0        320.0  \n",
       "2022-10-06 21:00:00       1325        254  275772205.0  324332969.0  \n",
       "2022-10-07 01:00:00       1362        327         37.0         73.0  "
      ]
     },
     "execution_count": 38,
     "metadata": {},
     "output_type": "execute_result"
    }
   ],
   "source": [
    "#example of turnstile reset\n",
    "df.loc[\"125 ST 00-06-00 R258\"].iloc[-52:-47]\n"
   ]
  },
  {
   "cell_type": "markdown",
   "metadata": {},
   "source": [
    " So I'll change this incorrect values with the mean value of this exact station. The threshold to detect such fluctuations will be if that absolute value is greater than 15000. I follow the logic that it is phisically impossible to pass turnstile faster than for a second. For a period of 4 hours this gives us theoretical max amount of people at 4 * 60 * 60 = 14400."
   ]
  },
  {
   "cell_type": "markdown",
   "metadata": {},
   "source": [
    "First of all, I'll drop the index to find and replace these incorrect values with mean of their station respectively and the replace incorrect values with mean."
   ]
  },
  {
   "cell_type": "code",
   "execution_count": 26,
   "metadata": {},
   "outputs": [],
   "source": [
    "def fix_incorrect():\n",
    "    '''Checks for all values larger than 15000 and replaces them with mean value for that station'''\n",
    "    for x,k in df.iterrows():\n",
    "        #if absolute value of people passed through turnstile is more than 15000, replacing this value with mean.\n",
    "        if df.loc[x,\"entries_abs\"]>15000:\n",
    "            mean=df[(df[\"entries_abs\"]<15000) & (df[\"station\"]==k[5])][\"entries_abs\"].mean()\n",
    "            mean=int(mean)    \n",
    "            df.loc[x,\"entries_abs\"]=mean\n",
    "    for x,k in df.iterrows():\n",
    "    #if absolute value of people passed through turnstile is more than 15000, replacing this value with mean.\n",
    "        if df.loc[x,\"exits_abs\"]>15000:\n",
    "            mean=df[(df[\"exits_abs\"]<15000) & (df[\"station\"]==k[5])][\"exits_abs\"].mean()\n",
    "            mean=int(mean)    \n",
    "            df.loc[x,\"exits_abs\"]=mean"
   ]
  },
  {
   "cell_type": "code",
   "execution_count": 41,
   "metadata": {},
   "outputs": [],
   "source": [
    "fix_incorrect()"
   ]
  },
  {
   "cell_type": "markdown",
   "metadata": {},
   "source": [
    "Check for incorrect data."
   ]
  },
  {
   "cell_type": "code",
   "execution_count": 28,
   "metadata": {},
   "outputs": [
    {
     "data": {
      "text/html": [
       "<div>\n",
       "<style scoped>\n",
       "    .dataframe tbody tr th:only-of-type {\n",
       "        vertical-align: middle;\n",
       "    }\n",
       "\n",
       "    .dataframe tbody tr th {\n",
       "        vertical-align: top;\n",
       "    }\n",
       "\n",
       "    .dataframe thead th {\n",
       "        text-align: right;\n",
       "    }\n",
       "</style>\n",
       "<table border=\"1\" class=\"dataframe\">\n",
       "  <thead>\n",
       "    <tr style=\"text-align: right;\">\n",
       "      <th></th>\n",
       "      <th>stat_id</th>\n",
       "      <th>datetime</th>\n",
       "      <th>c/a</th>\n",
       "      <th>unit</th>\n",
       "      <th>scp</th>\n",
       "      <th>station</th>\n",
       "      <th>linename</th>\n",
       "      <th>division</th>\n",
       "      <th>desc</th>\n",
       "      <th>entries</th>\n",
       "      <th>exits</th>\n",
       "      <th>entries_abs</th>\n",
       "      <th>exits_abs</th>\n",
       "    </tr>\n",
       "  </thead>\n",
       "  <tbody>\n",
       "  </tbody>\n",
       "</table>\n",
       "</div>"
      ],
      "text/plain": [
       "Empty DataFrame\n",
       "Columns: [stat_id, datetime, c/a, unit, scp, station, linename, division, desc, entries, exits, entries_abs, exits_abs]\n",
       "Index: []"
      ]
     },
     "execution_count": 28,
     "metadata": {},
     "output_type": "execute_result"
    }
   ],
   "source": [
    "df[df[\"entries_abs\"]>15000]"
   ]
  },
  {
   "cell_type": "code",
   "execution_count": 29,
   "metadata": {},
   "outputs": [
    {
     "data": {
      "text/html": [
       "<div>\n",
       "<style scoped>\n",
       "    .dataframe tbody tr th:only-of-type {\n",
       "        vertical-align: middle;\n",
       "    }\n",
       "\n",
       "    .dataframe tbody tr th {\n",
       "        vertical-align: top;\n",
       "    }\n",
       "\n",
       "    .dataframe thead th {\n",
       "        text-align: right;\n",
       "    }\n",
       "</style>\n",
       "<table border=\"1\" class=\"dataframe\">\n",
       "  <thead>\n",
       "    <tr style=\"text-align: right;\">\n",
       "      <th></th>\n",
       "      <th>stat_id</th>\n",
       "      <th>datetime</th>\n",
       "      <th>c/a</th>\n",
       "      <th>unit</th>\n",
       "      <th>scp</th>\n",
       "      <th>station</th>\n",
       "      <th>linename</th>\n",
       "      <th>division</th>\n",
       "      <th>desc</th>\n",
       "      <th>entries</th>\n",
       "      <th>exits</th>\n",
       "      <th>entries_abs</th>\n",
       "      <th>exits_abs</th>\n",
       "    </tr>\n",
       "  </thead>\n",
       "  <tbody>\n",
       "  </tbody>\n",
       "</table>\n",
       "</div>"
      ],
      "text/plain": [
       "Empty DataFrame\n",
       "Columns: [stat_id, datetime, c/a, unit, scp, station, linename, division, desc, entries, exits, entries_abs, exits_abs]\n",
       "Index: []"
      ]
     },
     "execution_count": 29,
     "metadata": {},
     "output_type": "execute_result"
    }
   ],
   "source": [
    "df[df[\"exits_abs\"]>15000]"
   ]
  },
  {
   "cell_type": "markdown",
   "metadata": {},
   "source": [
    "Everything is fine."
   ]
  },
  {
   "cell_type": "markdown",
   "metadata": {},
   "source": [
    "----"
   ]
  },
  {
   "cell_type": "markdown",
   "metadata": {},
   "source": [
    "Now, let's change entries_abs and exits_abs to int and after that I'll drop: \n",
    "- entries and exits (we already used them)\n",
    "- division - this feature contains information about station owner. This won't be useful for this project.\n",
    "- c/a - this feature contains information about electrical station that supplies energy for current station. This won't be useful for this project either.\n",
    "- desc - represent the \"REGULAR\" scheduled audit event. This won't be useful for this project.\n"
   ]
  },
  {
   "cell_type": "code",
   "execution_count": 42,
   "metadata": {},
   "outputs": [],
   "source": [
    "def columns_drop():\n",
    "    #changing columns type to int\n",
    "    df[\"entries_abs\"]=df[\"entries_abs\"].astype(int)\n",
    "    df[\"exits_abs\"]=df[\"exits_abs\"].astype(int)\n",
    "    #droping columns\n",
    "    df.drop(columns=[\"entries\",\"exits\",\"c/a\",\"division\",\"desc\"],inplace=True)\n",
    "    #adding weekday column\n",
    "    df['weekday'] = df['datetime'].dt.day_name()\n"
   ]
  },
  {
   "cell_type": "code",
   "execution_count": 43,
   "metadata": {},
   "outputs": [],
   "source": [
    "columns_drop()"
   ]
  },
  {
   "cell_type": "markdown",
   "metadata": {},
   "source": [
    "Saving file to csv."
   ]
  },
  {
   "cell_type": "code",
   "execution_count": 31,
   "metadata": {},
   "outputs": [],
   "source": [
    "df.to_csv('../data/df_cleaned_year.csv',index=False)"
   ]
  }
 ],
 "metadata": {
  "kernelspec": {
   "display_name": "dsi_tens",
   "language": "python",
   "name": "dsi_tens"
  },
  "language_info": {
   "codemirror_mode": {
    "name": "ipython",
    "version": 3
   },
   "file_extension": ".py",
   "mimetype": "text/x-python",
   "name": "python",
   "nbconvert_exporter": "python",
   "pygments_lexer": "ipython3",
   "version": "3.9.12"
  },
  "orig_nbformat": 4,
  "vscode": {
   "interpreter": {
    "hash": "28603a003e0f3f16b61e11e8a1b17d48703271cacfa540e5bfac5b9de251aa54"
   }
  }
 },
 "nbformat": 4,
 "nbformat_minor": 2
}
