{
 "cells": [
  {
   "cell_type": "code",
   "execution_count": 2,
   "metadata": {},
   "outputs": [],
   "source": [
    "import pandas as pd\n",
    "import numpy as np\n",
    "import matplotlib.pyplot as plt\n",
    "import seaborn as sns\n",
    "pd.set_option('display.max_rows', 1000)"
   ]
  },
  {
   "cell_type": "code",
   "execution_count": 4,
   "metadata": {},
   "outputs": [
    {
     "data": {
      "text/html": [
       "<div>\n",
       "<style scoped>\n",
       "    .dataframe tbody tr th:only-of-type {\n",
       "        vertical-align: middle;\n",
       "    }\n",
       "\n",
       "    .dataframe tbody tr th {\n",
       "        vertical-align: top;\n",
       "    }\n",
       "\n",
       "    .dataframe thead th {\n",
       "        text-align: right;\n",
       "    }\n",
       "</style>\n",
       "<table border=\"1\" class=\"dataframe\">\n",
       "  <thead>\n",
       "    <tr style=\"text-align: right;\">\n",
       "      <th></th>\n",
       "      <th>stat_id</th>\n",
       "      <th>unit</th>\n",
       "      <th>scp</th>\n",
       "      <th>station</th>\n",
       "      <th>linename</th>\n",
       "      <th>entries_abs</th>\n",
       "      <th>exits_abs</th>\n",
       "    </tr>\n",
       "    <tr>\n",
       "      <th>datetime</th>\n",
       "      <th></th>\n",
       "      <th></th>\n",
       "      <th></th>\n",
       "      <th></th>\n",
       "      <th></th>\n",
       "      <th></th>\n",
       "      <th></th>\n",
       "    </tr>\n",
       "  </thead>\n",
       "  <tbody>\n",
       "    <tr>\n",
       "      <th>2022-10-01 00:00:00</th>\n",
       "      <td>1 AV 00-00-00 H007</td>\n",
       "      <td>R248</td>\n",
       "      <td>00-00-00</td>\n",
       "      <td>1 AV</td>\n",
       "      <td>L</td>\n",
       "      <td>92</td>\n",
       "      <td>474</td>\n",
       "    </tr>\n",
       "    <tr>\n",
       "      <th>2022-10-01 04:00:00</th>\n",
       "      <td>1 AV 00-00-00 H007</td>\n",
       "      <td>R248</td>\n",
       "      <td>00-00-00</td>\n",
       "      <td>1 AV</td>\n",
       "      <td>L</td>\n",
       "      <td>19</td>\n",
       "      <td>199</td>\n",
       "    </tr>\n",
       "    <tr>\n",
       "      <th>2022-10-01 08:00:00</th>\n",
       "      <td>1 AV 00-00-00 H007</td>\n",
       "      <td>R248</td>\n",
       "      <td>00-00-00</td>\n",
       "      <td>1 AV</td>\n",
       "      <td>L</td>\n",
       "      <td>10</td>\n",
       "      <td>167</td>\n",
       "    </tr>\n",
       "    <tr>\n",
       "      <th>2022-10-01 12:00:00</th>\n",
       "      <td>1 AV 00-00-00 H007</td>\n",
       "      <td>R248</td>\n",
       "      <td>00-00-00</td>\n",
       "      <td>1 AV</td>\n",
       "      <td>L</td>\n",
       "      <td>55</td>\n",
       "      <td>380</td>\n",
       "    </tr>\n",
       "    <tr>\n",
       "      <th>2022-10-01 16:00:00</th>\n",
       "      <td>1 AV 00-00-00 H007</td>\n",
       "      <td>R248</td>\n",
       "      <td>00-00-00</td>\n",
       "      <td>1 AV</td>\n",
       "      <td>L</td>\n",
       "      <td>91</td>\n",
       "      <td>580</td>\n",
       "    </tr>\n",
       "    <tr>\n",
       "      <th>...</th>\n",
       "      <td>...</td>\n",
       "      <td>...</td>\n",
       "      <td>...</td>\n",
       "      <td>...</td>\n",
       "      <td>...</td>\n",
       "      <td>...</td>\n",
       "      <td>...</td>\n",
       "    </tr>\n",
       "    <tr>\n",
       "      <th>2022-10-07 05:00:00</th>\n",
       "      <td>ZEREGA AV 00-05-01 R419</td>\n",
       "      <td>R326</td>\n",
       "      <td>00-05-01</td>\n",
       "      <td>ZEREGA AV</td>\n",
       "      <td>6</td>\n",
       "      <td>0</td>\n",
       "      <td>0</td>\n",
       "    </tr>\n",
       "    <tr>\n",
       "      <th>2022-10-07 09:00:00</th>\n",
       "      <td>ZEREGA AV 00-05-01 R419</td>\n",
       "      <td>R326</td>\n",
       "      <td>00-05-01</td>\n",
       "      <td>ZEREGA AV</td>\n",
       "      <td>6</td>\n",
       "      <td>0</td>\n",
       "      <td>0</td>\n",
       "    </tr>\n",
       "    <tr>\n",
       "      <th>2022-10-07 13:00:00</th>\n",
       "      <td>ZEREGA AV 00-05-01 R419</td>\n",
       "      <td>R326</td>\n",
       "      <td>00-05-01</td>\n",
       "      <td>ZEREGA AV</td>\n",
       "      <td>6</td>\n",
       "      <td>0</td>\n",
       "      <td>0</td>\n",
       "    </tr>\n",
       "    <tr>\n",
       "      <th>2022-10-07 17:00:00</th>\n",
       "      <td>ZEREGA AV 00-05-01 R419</td>\n",
       "      <td>R326</td>\n",
       "      <td>00-05-01</td>\n",
       "      <td>ZEREGA AV</td>\n",
       "      <td>6</td>\n",
       "      <td>0</td>\n",
       "      <td>0</td>\n",
       "    </tr>\n",
       "    <tr>\n",
       "      <th>2022-10-07 21:00:00</th>\n",
       "      <td>ZEREGA AV 00-05-01 R419</td>\n",
       "      <td>R326</td>\n",
       "      <td>00-05-01</td>\n",
       "      <td>ZEREGA AV</td>\n",
       "      <td>6</td>\n",
       "      <td>0</td>\n",
       "      <td>0</td>\n",
       "    </tr>\n",
       "  </tbody>\n",
       "</table>\n",
       "<p>210015 rows × 7 columns</p>\n",
       "</div>"
      ],
      "text/plain": [
       "                                     stat_id  unit       scp    station  \\\n",
       "datetime                                                                  \n",
       "2022-10-01 00:00:00       1 AV 00-00-00 H007  R248  00-00-00       1 AV   \n",
       "2022-10-01 04:00:00       1 AV 00-00-00 H007  R248  00-00-00       1 AV   \n",
       "2022-10-01 08:00:00       1 AV 00-00-00 H007  R248  00-00-00       1 AV   \n",
       "2022-10-01 12:00:00       1 AV 00-00-00 H007  R248  00-00-00       1 AV   \n",
       "2022-10-01 16:00:00       1 AV 00-00-00 H007  R248  00-00-00       1 AV   \n",
       "...                                      ...   ...       ...        ...   \n",
       "2022-10-07 05:00:00  ZEREGA AV 00-05-01 R419  R326  00-05-01  ZEREGA AV   \n",
       "2022-10-07 09:00:00  ZEREGA AV 00-05-01 R419  R326  00-05-01  ZEREGA AV   \n",
       "2022-10-07 13:00:00  ZEREGA AV 00-05-01 R419  R326  00-05-01  ZEREGA AV   \n",
       "2022-10-07 17:00:00  ZEREGA AV 00-05-01 R419  R326  00-05-01  ZEREGA AV   \n",
       "2022-10-07 21:00:00  ZEREGA AV 00-05-01 R419  R326  00-05-01  ZEREGA AV   \n",
       "\n",
       "                    linename  entries_abs  exits_abs  \n",
       "datetime                                              \n",
       "2022-10-01 00:00:00        L           92        474  \n",
       "2022-10-01 04:00:00        L           19        199  \n",
       "2022-10-01 08:00:00        L           10        167  \n",
       "2022-10-01 12:00:00        L           55        380  \n",
       "2022-10-01 16:00:00        L           91        580  \n",
       "...                      ...          ...        ...  \n",
       "2022-10-07 05:00:00        6            0          0  \n",
       "2022-10-07 09:00:00        6            0          0  \n",
       "2022-10-07 13:00:00        6            0          0  \n",
       "2022-10-07 17:00:00        6            0          0  \n",
       "2022-10-07 21:00:00        6            0          0  \n",
       "\n",
       "[210015 rows x 7 columns]"
      ]
     },
     "execution_count": 4,
     "metadata": {},
     "output_type": "execute_result"
    }
   ],
   "source": [
    "df=pd.read_csv('../data/df_cleaned.csv',index_col=\"datetime\")\n",
    "df"
   ]
  },
  {
   "cell_type": "code",
   "execution_count": 6,
   "metadata": {},
   "outputs": [],
   "source": [
    "entries_top_10=df.groupby(\"station\")[\"entries_abs\"].sum().sort_values(ascending=False).head(10)\n",
    "entries_bottom_10=df.groupby(\"station\")[\"entries_abs\"].sum().sort_values(ascending=True).head(10)"
   ]
  },
  {
   "cell_type": "code",
   "execution_count": 7,
   "metadata": {},
   "outputs": [
    {
     "data": {
      "text/html": [
       "<div>\n",
       "<style scoped>\n",
       "    .dataframe tbody tr th:only-of-type {\n",
       "        vertical-align: middle;\n",
       "    }\n",
       "\n",
       "    .dataframe tbody tr th {\n",
       "        vertical-align: top;\n",
       "    }\n",
       "\n",
       "    .dataframe thead th {\n",
       "        text-align: right;\n",
       "    }\n",
       "</style>\n",
       "<table border=\"1\" class=\"dataframe\">\n",
       "  <thead>\n",
       "    <tr style=\"text-align: right;\">\n",
       "      <th></th>\n",
       "      <th></th>\n",
       "      <th>entries_abs</th>\n",
       "      <th>exits_abs</th>\n",
       "    </tr>\n",
       "    <tr>\n",
       "      <th>station</th>\n",
       "      <th>scp</th>\n",
       "      <th></th>\n",
       "      <th></th>\n",
       "    </tr>\n",
       "  </thead>\n",
       "  <tbody>\n",
       "    <tr>\n",
       "      <th rowspan=\"2\" valign=\"top\">23 ST</th>\n",
       "      <th>00-00-00</th>\n",
       "      <td>32250</td>\n",
       "      <td>62261</td>\n",
       "    </tr>\n",
       "    <tr>\n",
       "      <th>00-00-02</th>\n",
       "      <td>29889</td>\n",
       "      <td>30129</td>\n",
       "    </tr>\n",
       "    <tr>\n",
       "      <th>GRD CNTRL-42 ST</th>\n",
       "      <th>00-06-01</th>\n",
       "      <td>28362</td>\n",
       "      <td>15797</td>\n",
       "    </tr>\n",
       "    <tr>\n",
       "      <th>23 ST</th>\n",
       "      <th>00-00-01</th>\n",
       "      <td>28303</td>\n",
       "      <td>30688</td>\n",
       "    </tr>\n",
       "    <tr>\n",
       "      <th>86 ST</th>\n",
       "      <th>00-00-01</th>\n",
       "      <td>25751</td>\n",
       "      <td>24896</td>\n",
       "    </tr>\n",
       "    <tr>\n",
       "      <th>...</th>\n",
       "      <th>...</th>\n",
       "      <td>...</td>\n",
       "      <td>...</td>\n",
       "    </tr>\n",
       "    <tr>\n",
       "      <th>FAR ROCKAWAY</th>\n",
       "      <th>00-05-01</th>\n",
       "      <td>0</td>\n",
       "      <td>6</td>\n",
       "    </tr>\n",
       "    <tr>\n",
       "      <th>FLATBUSH AV-B.C</th>\n",
       "      <th>00-05-01</th>\n",
       "      <td>0</td>\n",
       "      <td>18</td>\n",
       "    </tr>\n",
       "    <tr>\n",
       "      <th>FLUSHING AV</th>\n",
       "      <th>00-05-01</th>\n",
       "      <td>0</td>\n",
       "      <td>0</td>\n",
       "    </tr>\n",
       "    <tr>\n",
       "      <th>FORDHAM RD</th>\n",
       "      <th>00-05-01</th>\n",
       "      <td>0</td>\n",
       "      <td>26</td>\n",
       "    </tr>\n",
       "    <tr>\n",
       "      <th>ZEREGA AV</th>\n",
       "      <th>00-05-01</th>\n",
       "      <td>0</td>\n",
       "      <td>0</td>\n",
       "    </tr>\n",
       "  </tbody>\n",
       "</table>\n",
       "<p>4429 rows × 2 columns</p>\n",
       "</div>"
      ],
      "text/plain": [
       "                          entries_abs  exits_abs\n",
       "station         scp                             \n",
       "23 ST           00-00-00        32250      62261\n",
       "                00-00-02        29889      30129\n",
       "GRD CNTRL-42 ST 00-06-01        28362      15797\n",
       "23 ST           00-00-01        28303      30688\n",
       "86 ST           00-00-01        25751      24896\n",
       "...                               ...        ...\n",
       "FAR ROCKAWAY    00-05-01            0          6\n",
       "FLATBUSH AV-B.C 00-05-01            0         18\n",
       "FLUSHING AV     00-05-01            0          0\n",
       "FORDHAM RD      00-05-01            0         26\n",
       "ZEREGA AV       00-05-01            0          0\n",
       "\n",
       "[4429 rows x 2 columns]"
      ]
     },
     "execution_count": 7,
     "metadata": {},
     "output_type": "execute_result"
    }
   ],
   "source": [
    "df.groupby([\"station\",\"scp\"]).agg(\"sum\").sort_values(by=\"entries_abs\",ascending=False)"
   ]
  },
  {
   "cell_type": "code",
   "execution_count": 9,
   "metadata": {},
   "outputs": [
    {
     "data": {
      "text/plain": [
       "station\n",
       "34 ST-PENN STA     353512\n",
       "GRD CNTRL-42 ST    283849\n",
       "34 ST-HERALD SQ    246804\n",
       "42 ST-PORT AUTH    240693\n",
       "23 ST              234212\n",
       "86 ST              223727\n",
       "TIMES SQ-42 ST     214198\n",
       "FULTON ST          204352\n",
       "125 ST             191234\n",
       "14 ST-UNION SQ     181686\n",
       "Name: entries_abs, dtype: int64"
      ]
     },
     "execution_count": 9,
     "metadata": {},
     "output_type": "execute_result"
    }
   ],
   "source": [
    "df.groupby(\"station\")[\"entries_abs\"].sum().sort_values(ascending=False).head(10)"
   ]
  },
  {
   "cell_type": "code",
   "execution_count": 10,
   "metadata": {},
   "outputs": [
    {
     "data": {
      "text/plain": [
       "<AxesSubplot:xlabel='station'>"
      ]
     },
     "execution_count": 10,
     "metadata": {},
     "output_type": "execute_result"
    },
    {
     "data": {
      "image/png": "[encoded data removed]",
      "text/plain": [
       "<Figure size 432x288 with 1 Axes>"
      ]
     },
     "metadata": {
      "needs_background": "light"
     },
     "output_type": "display_data"
    }
   ],
   "source": [
    "entries_bottom_10.plot()"
   ]
  },
  {
   "cell_type": "code",
   "execution_count": 11,
   "metadata": {},
   "outputs": [
    {
     "data": {
      "text/plain": [
       "<AxesSubplot:xlabel='entries_abs', ylabel='station'>"
      ]
     },
     "execution_count": 11,
     "metadata": {},
     "output_type": "execute_result"
    },
    {
     "data": {
      "image/png": "[encoded data removed]",
      "text/plain": [
       "<Figure size 432x1080 with 1 Axes>"
      ]
     },
     "metadata": {
      "needs_background": "light"
     },
     "output_type": "display_data"
    }
   ],
   "source": [
    "entries_top=df.groupby(\"station\").agg(\"sum\").sort_values(by=\"entries_abs\",ascending=False).head(10)\n",
    "# Initialize the matplotlib figure\n",
    "f, ax = plt.subplots(figsize=(6, 15))\n",
    "\n",
    "# Load the example car crash dataset\n",
    "\n",
    "# Plot the total crashes\n",
    "sns.set_color_codes(\"pastel\")\n",
    "sns.barplot(x=\"entries_abs\", y=entries_top.index, data=entries_top,\n",
    "            label=\"Total\", color=\"b\")"
   ]
  },
  {
   "cell_type": "code",
   "execution_count": null,
   "metadata": {},
   "outputs": [],
   "source": []
  }
 ],
 "metadata": {
  "kernelspec": {
   "display_name": "Python 3.7.13 ('base')",
   "language": "python",
   "name": "python3"
  },
  "language_info": {
   "codemirror_mode": {
    "name": "ipython",
    "version": 3
   },
   "file_extension": ".py",
   "mimetype": "text/x-python",
   "name": "python",
   "nbconvert_exporter": "python",
   "pygments_lexer": "ipython3",
   "version": "3.7.13"
  },
  "orig_nbformat": 4,
  "vscode": {
   "interpreter": {
    "hash": "28603a003e0f3f16b61e11e8a1b17d48703271cacfa540e5bfac5b9de251aa54"
   }
  }
 },
 "nbformat": 4,
 "nbformat_minor": 2
}
